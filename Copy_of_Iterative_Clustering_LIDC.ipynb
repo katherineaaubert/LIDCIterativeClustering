{
  "nbformat": 4,
  "nbformat_minor": 0,
  "metadata": {
    "colab": {
      "name": "Copy of Iterative Clustering LIDC",
      "provenance": [],
      "collapsed_sections": []
    },
    "kernelspec": {
      "name": "python3",
      "display_name": "Python 3"
    },
    "language_info": {
      "name": "python"
    }
  },
  "cells": [
    {
      "cell_type": "code",
      "execution_count": null,
      "metadata": {
        "id": "vlQPdeOnSf_Y",
        "colab": {
          "base_uri": "https://localhost:8080/"
        },
        "outputId": "3014ded5-c0c0-4672-f43c-3c50ea360714"
      },
      "outputs": [
        {
          "output_type": "stream",
          "name": "stdout",
          "text": [
            "Drive already mounted at /content/drive; to attempt to forcibly remount, call drive.mount(\"/content/drive\", force_remount=True).\n"
          ]
        }
      ],
      "source": [
        "from google.colab import drive\n",
        "drive.mount('/content/drive')"
      ]
    },
    {
      "cell_type": "code",
      "source": [
        "import numpy as np\n",
        "import pandas as pd\n",
        "import matplotlib.pyplot as plt\n",
        "from sklearn.manifold import TSNE\n",
        "from sklearn.metrics import silhouette_score, silhouette_samples\n",
        "import sklearn as sk\n",
        "from sklearn.decomposition import PCA\n",
        "from sklearn.preprocessing import normalize\n",
        "from sklearn.preprocessing import StandardScaler\n",
        "from sklearn.cluster import KMeans\n",
        "from sklearn.model_selection import train_test_split\n",
        "from sklearn.svm import SVC, LinearSVC\n",
        "from sklearn.ensemble import RandomForestClassifier\n",
        "from sklearn.neighbors import NearestNeighbors\n",
        "from sklearn.neighbors import KNeighborsClassifier\n",
        "from sklearn.metrics import confusion_matrix\n",
        "from statistics import mean\n",
        "import math\n",
        "import statistics"
      ],
      "metadata": {
        "id": "h9cCTeWzS0sX"
      },
      "execution_count": null,
      "outputs": []
    },
    {
      "cell_type": "code",
      "source": [
        "path = input(\"Are you Katherine (K) or someone else (S)?\")\n",
        "if(path == 'K'):\n",
        "  df = pd.read_csv(\"/content/drive/MyDrive/MedIX - Subtype Discovery Project/Code/notebooks we are actually using LOL/SPIE Extended Abstract Results/Copy of MaxSlices_newMode_2022.csv\")\n",
        "elif path == 'S':\n",
        "  pathSomeoneElse = input(\"Please copy the path where you have the MaxSlicesPerNodule file and paste that path here:\")\n",
        "  df = pd.read_csv(pathSomeoneElse)"
      ],
      "metadata": {
        "id": "d7F-WDrvS7L0",
        "colab": {
          "base_uri": "https://localhost:8080/"
        },
        "outputId": "1ac853ee-8218-4e31-9e72-8b24f422326b"
      },
      "execution_count": null,
      "outputs": [
        {
          "name": "stdout",
          "output_type": "stream",
          "text": [
            "Are you Katherine (K) or someone else (S)?K\n"
          ]
        }
      ]
    },
    {
      "cell_type": "code",
      "source": [
        "\n",
        "df = df.drop(['RadiologistID', 'SeriesInstanceUid', 'StudyInstanceUID', 'FilePath', 'DicomImage', 'imageSOP_UID','coords', 'Subtlety_1', 'InternalStructure_1', 'Sphericity_1', 'Margin_1', 'Lobulation_1', 'Spiculation_1', 'Texture_1', 'Malignancy_1', 'Subtlety_2', 'InternalStructure_2', 'Sphericity_2', 'Margin_2', 'Lobulation_2', 'Spiculation_2', 'Texture_2', 'Malignancy_2', 'Subtlety_3', 'InternalStructure_3', 'Sphericity_3', 'Margin_3', 'Lobulation_3', 'Spiculation_3', 'Texture_3', 'Malignancy_3', 'Subtlety_4', 'InternalStructure_4', 'Sphericity_4', 'Margin_4', 'Lobulation_4', 'Spiculation_4', 'Texture_4', 'Malignancy_4', 'Subtlety', 'InternalStructure', 'Sphericity', 'Margin', 'Lobulation', 'Spiculation', 'Texture'], axis=1)"
      ],
      "metadata": {
        "id": "ALWf8O5gTHEt"
      },
      "execution_count": null,
      "outputs": []
    },
    {
      "cell_type": "code",
      "source": [
        "df = df.drop(['Calcification_1', 'Calcification_2', 'Calcification_3', 'Calcification_4', 'Calcification'], axis = 1)"
      ],
      "metadata": {
        "id": "kZYFVkrRTJIk"
      },
      "execution_count": null,
      "outputs": []
    },
    {
      "cell_type": "code",
      "source": [
        "lidc = df"
      ],
      "metadata": {
        "id": "DM1GOcHqTRdw"
      },
      "execution_count": null,
      "outputs": []
    },
    {
      "cell_type": "code",
      "source": [
        "lidc = lidc[lidc.Malignancy != 3.0]\n",
        "for i, row in lidc.iterrows():\n",
        "    ifor_val = 0\n",
        "    if row['Malignancy'] == 4.0 or row['Malignancy'] == 5.0:\n",
        "      ifor_val = 1\n",
        "    lidc.at[i,'Malignancy'] = ifor_val"
      ],
      "metadata": {
        "id": "TdrQdjRCgqS7"
      },
      "execution_count": null,
      "outputs": []
    },
    {
      "cell_type": "code",
      "source": [
        "!pip install umap-learn\n",
        "import umap.umap_ as umap\n",
        "X_with_id = lidc\n",
        "y = (lidc['Malignancy']).to_numpy()\n",
        "X = X_with_id.drop(['noduleID', 'Malignancy'], axis = 1)\n",
        "print(X.columns)\n",
        "scaler = StandardScaler()\n",
        "scaler.fit(X)\n",
        "X = scaler.transform(X)\n",
        "pca = umap.UMAP()\n",
        "X = pca.fit_transform(X)"
      ],
      "metadata": {
        "id": "f734jIWniR6r",
        "colab": {
          "base_uri": "https://localhost:8080/"
        },
        "outputId": "9dd2c4a1-1df2-44a0-cde9-7082d952e916"
      },
      "execution_count": null,
      "outputs": [
        {
          "output_type": "stream",
          "name": "stdout",
          "text": [
            "Looking in indexes: https://pypi.org/simple, https://us-python.pkg.dev/colab-wheels/public/simple/\n",
            "Requirement already satisfied: umap-learn in /usr/local/lib/python3.7/dist-packages (0.5.3)\n",
            "Requirement already satisfied: numpy>=1.17 in /usr/local/lib/python3.7/dist-packages (from umap-learn) (1.21.6)\n",
            "Requirement already satisfied: tqdm in /usr/local/lib/python3.7/dist-packages (from umap-learn) (4.64.0)\n",
            "Requirement already satisfied: scikit-learn>=0.22 in /usr/local/lib/python3.7/dist-packages (from umap-learn) (1.0.2)\n",
            "Requirement already satisfied: pynndescent>=0.5 in /usr/local/lib/python3.7/dist-packages (from umap-learn) (0.5.7)\n",
            "Requirement already satisfied: scipy>=1.0 in /usr/local/lib/python3.7/dist-packages (from umap-learn) (1.7.3)\n",
            "Requirement already satisfied: numba>=0.49 in /usr/local/lib/python3.7/dist-packages (from umap-learn) (0.56.0)\n",
            "Requirement already satisfied: setuptools in /usr/local/lib/python3.7/dist-packages (from numba>=0.49->umap-learn) (57.4.0)\n",
            "Requirement already satisfied: importlib-metadata in /usr/local/lib/python3.7/dist-packages (from numba>=0.49->umap-learn) (4.12.0)\n",
            "Requirement already satisfied: llvmlite<0.40,>=0.39.0dev0 in /usr/local/lib/python3.7/dist-packages (from numba>=0.49->umap-learn) (0.39.0)\n",
            "Requirement already satisfied: joblib>=0.11 in /usr/local/lib/python3.7/dist-packages (from pynndescent>=0.5->umap-learn) (1.1.0)\n",
            "Requirement already satisfied: threadpoolctl>=2.0.0 in /usr/local/lib/python3.7/dist-packages (from scikit-learn>=0.22->umap-learn) (3.1.0)\n",
            "Requirement already satisfied: zipp>=0.5 in /usr/local/lib/python3.7/dist-packages (from importlib-metadata->numba>=0.49->umap-learn) (3.8.1)\n",
            "Requirement already satisfied: typing-extensions>=3.6.4 in /usr/local/lib/python3.7/dist-packages (from importlib-metadata->numba>=0.49->umap-learn) (4.1.1)\n",
            "Index(['InstanceID', 'imageZposition', 'PixelSpacing', 'PixelArea', 'Area',\n",
            "       'ConvexArea', 'Perimeter', 'ConvexPerimeter', 'EquivDiameter',\n",
            "       'MajorAxisLength', 'MinorAxisLength', 'SuperscribedDiameter',\n",
            "       'Elongation', 'Compactness', 'Eccentricity', 'Solidity', 'Extent',\n",
            "       'Circularity', 'RadialDistanceSD', 'SecondMoment', 'Roughness',\n",
            "       'MinIntensity', 'MaxIntensity', 'MeanIntensity', 'SDIntensity',\n",
            "       'MinIntensityBG', 'MaxIntensityBG', 'MeanIntensityBG', 'SDIntensityBG',\n",
            "       'IntensityDifference', 'markov1', 'markov2', 'markov3', 'markov4',\n",
            "       'markov5', 'gabormean_0_0', 'gaborSD_0_0', 'gabormean_0_1',\n",
            "       'gaborSD_0_1', 'gabormean_0_2', 'gaborSD_0_2', 'gabormean_1_0',\n",
            "       'gaborSD_1_0', 'gabormean_1_1', 'gaborSD_1_1', 'gabormean_1_2',\n",
            "       'gaborSD_1_2', 'gabormean_2_0', 'gaborSD_2_0', 'gabormean_2_1',\n",
            "       'gaborSD_2_1', 'gabormean_2_2', 'gaborSD_2_2', 'gabormean_3_0',\n",
            "       'gaborSD_3_0', 'gabormean_3_1', 'gaborSD_3_1', 'gabormean_3_2',\n",
            "       'gaborSD_3_2', 'Contrast', 'Correlation', 'Energy', 'Homogeneity',\n",
            "       'Entropy', 'x_3rdordermoment', 'Inversevariance', 'Sumaverage',\n",
            "       'Variance', 'Clustertendency', 'MaxProbability'],\n",
            "      dtype='object')\n"
          ]
        }
      ]
    },
    {
      "cell_type": "code",
      "source": [
        "print(len(X)) #Length reduced because indeterminate nodules were removed"
      ],
      "metadata": {
        "colab": {
          "base_uri": "https://localhost:8080/"
        },
        "id": "gm1w-yknwidI",
        "outputId": "412dd074-0e52-48e4-8ad0-8813fc7d3444"
      },
      "execution_count": null,
      "outputs": [
        {
          "output_type": "stream",
          "name": "stdout",
          "text": [
            "1491\n"
          ]
        }
      ]
    },
    {
      "cell_type": "code",
      "source": [
        "def createList(r1, r2):\n",
        "    return [item for item in range(r1, r2)]\n",
        "# Driver Code\n",
        "r1, r2 = 0, len(y)\n",
        "lstOfIds = createList(r1, r2)"
      ],
      "metadata": {
        "id": "B4UpChQ1VFRL"
      },
      "execution_count": null,
      "outputs": []
    },
    {
      "cell_type": "code",
      "source": [
        "def calculateHomogeneity(predicted, actual, origNumLabels = 2):\n",
        "\n",
        "  numPredictedClusters = len(np.unique(predicted)) # number of predicted clusters\n",
        "  numActual = len(np.unique(actual)) # number of actual ground truth classes\n",
        "\n",
        "  clusterHomogeneities = []\n",
        "  clusterTotals = []\n",
        "  for i in range(numPredictedClusters):\n",
        "    homogeneityList = np.zeros(origNumLabels)\n",
        "    # find all of the indices of the cluster\n",
        "    ind = np.where(np.isin(predicted,i))\n",
        "    actual = np.array(actual)\n",
        "    actualVals = actual[ind] # finding the actual values in that cluster\n",
        "    totalNumInCluster = len(actualVals) # finding the amount of points in that cluster in order to divide\n",
        "    clusterTotals.append(totalNumInCluster)\n",
        "    for i in actualVals:\n",
        "      homogeneityList[i-1] = homogeneityList[i-1] + 1\n",
        "    homogeneityList = homogeneityList / totalNumInCluster\n",
        "    clusterHomogeneities.append(max(homogeneityList))\n",
        "  return [clusterHomogeneities, clusterTotals]"
      ],
      "metadata": {
        "id": "VkhjBXzUV9yV"
      },
      "execution_count": null,
      "outputs": []
    },
    {
      "cell_type": "code",
      "execution_count": null,
      "metadata": {
        "id": "Dz8dOqCoJu3d"
      },
      "outputs": [],
      "source": [
        "def iterativeClustering(threshold, data, actual, IdList, centers = [], properlyClassified = [], hsOfRemoved = [], lengthOfData = len(X)):\n",
        " \n",
        "  print(\"Number of data points to work with: \", data.shape[0])\n",
        "\n",
        "  #finding the best k\n",
        "\n",
        "  k = 1;\n",
        "  currHomogeneity = 0.0;\n",
        "  while (currHomogeneity < threshold and k <= math.sqrt(lengthOfData/2)):\n",
        "    k = k + 1\n",
        "    model = sk.cluster.KMeans(n_clusters = k)\n",
        "    clusterLabels = model.fit_predict(data)\n",
        "    clusterCenters = model.cluster_centers_ # getting the centers of the clusters\n",
        "    homogeneityList = calculateHomogeneity(clusterLabels, actual) \n",
        "    currHomogeneity = np.max(homogeneityList[0])\n",
        "  \n",
        "\n",
        "  predLabels = clusterLabels\n",
        "  homogeneityPCluster = homogeneityList[0]\n",
        "  \n",
        "  for i in range(k):\n",
        "    print(\"Homogeneity of cluster {} is {}\".format(i,homogeneityPCluster[i]))\n",
        "  \n",
        "  #find clusters to remove\n",
        "  clustersToRemove = []\n",
        "  bestClusterHS = currHomogeneity\n",
        "  print(\"this is the maximum homogeneity: {}\".format(bestClusterHS))\n",
        "  indexOfMax = homogeneityPCluster.index(bestClusterHS) \n",
        "  clusterTotals = homogeneityList[1]\n",
        "  for i in range(k):\n",
        "    diffBtwnBest = bestClusterHS - homogeneityPCluster[i]\n",
        "    \n",
        "    if i == indexOfMax:\n",
        "      clustersToRemove.append(i)\n",
        "      \n",
        "      print(\"Cluster sectioned off:\", i)\n",
        "      continue\n",
        "    if diffBtwnBest < .03 and homogeneityPCluster[i] >= threshold and clusterTotals[i]> math.sqrt(len(data)):\n",
        "      \n",
        "      clustersToRemove.append(i)\n",
        "      \n",
        "      print(\"Cluster sectioned off:\", i)\n",
        "\n",
        "  pointsRemoved = 0\n",
        "  totalPoints = sum(clusterTotals)\n",
        "  for i in range(k):\n",
        "    if i in clustersToRemove:\n",
        "      pointsRemoved += clusterTotals[i]\n",
        "\n",
        "  \n",
        "  remainingDatapoints = totalPoints - pointsRemoved #check total points\n",
        "  print(\"percent removed: {}\".format(pointsRemoved/lengthOfData))\n",
        "  if remainingDatapoints < math.sqrt(lengthOfData) or (pointsRemoved <= math.sqrt(len(data))): \n",
        "    if remainingDatapoints < math.sqrt(lengthOfData):\n",
        "      print(\"Too few remaining points.\")\n",
        "    else:\n",
        "      print(\"Two few points in a cluster.\")\n",
        "    print(\"DONE - we have all clusters\")\n",
        "    return list(properlyClassified), list(IdList), list(hsOfRemoved), list(centers)\n",
        "\n",
        "  else: \n",
        "    #remove these dataPoints in cluster chosen to be separated\n",
        "    #recluster remaining\n",
        "    IdList = np.array(IdList)\n",
        "\n",
        "    for num in clustersToRemove:\n",
        "      indices = np.where(np.isin(predLabels,num))\n",
        "      toAppend = IdList[indices]\n",
        "      properlyClassified.append(toAppend)\n",
        "      centers.append(clusterCenters[num])\n",
        "      hsOfRemoved.append(homogeneityPCluster[num])\n",
        "      data = np.delete(data, indices, axis=0)\n",
        "      actual = np.delete(actual, indices)\n",
        "      IdList = np.delete(IdList,indices)\n",
        "      predLabels = np.delete(predLabels,indices)\n",
        "    \n",
        "    print(\"Good clusters removed. Starting over with smaller dataset.\")\n",
        "    return iterativeClustering(threshold, data, actual,IdList, centers, properlyClassified, hsOfRemoved)"
      ]
    },
    {
      "cell_type": "code",
      "source": [
        "separatedClusters, remainingPoints, scores, centers = iterativeClustering(.8, X,y,lstOfIds)"
      ],
      "metadata": {
        "colab": {
          "base_uri": "https://localhost:8080/"
        },
        "id": "Qj06V3YVbkIU",
        "outputId": "6b2e8e08-997a-4474-996c-e3bc61fb29da"
      },
      "execution_count": null,
      "outputs": [
        {
          "output_type": "stream",
          "name": "stdout",
          "text": [
            "Number of data points to work with:  1491\n",
            "Homogeneity of cluster 0 is 0.9185714285714286\n",
            "Homogeneity of cluster 1 is 0.7013888888888888\n",
            "Homogeneity of cluster 2 is 0.5774647887323944\n",
            "this is the maximum homogeneity: 0.9185714285714286\n",
            "Cluster sectioned off: 0\n",
            "percent removed: 0.4694835680751174\n",
            "Good clusters removed. Starting over with smaller dataset.\n",
            "Number of data points to work with:  791\n",
            "Homogeneity of cluster 0 is 0.9081885856079405\n",
            "Homogeneity of cluster 1 is 0.5774647887323944\n",
            "Homogeneity of cluster 2 is 0.7941176470588235\n",
            "Homogeneity of cluster 3 is 0.5335689045936396\n",
            "this is the maximum homogeneity: 0.9081885856079405\n",
            "Cluster sectioned off: 0\n",
            "percent removed: 0.2702883970489604\n",
            "Good clusters removed. Starting over with smaller dataset.\n",
            "Number of data points to work with:  388\n",
            "Homogeneity of cluster 0 is 0.5915492957746479\n",
            "Homogeneity of cluster 1 is 0.5774647887323944\n",
            "Homogeneity of cluster 2 is 0.7941176470588235\n",
            "Homogeneity of cluster 3 is 0.9583333333333334\n",
            "Homogeneity of cluster 4 is 0.5982905982905983\n",
            "this is the maximum homogeneity: 0.9583333333333334\n",
            "Cluster sectioned off: 3\n",
            "percent removed: 0.01609657947686117\n",
            "Good clusters removed. Starting over with smaller dataset.\n",
            "Number of data points to work with:  364\n",
            "Homogeneity of cluster 0 is 0.7692307692307693\n",
            "Homogeneity of cluster 1 is 0.6222222222222222\n",
            "Homogeneity of cluster 2 is 0.7941176470588235\n",
            "Homogeneity of cluster 3 is 0.525\n",
            "Homogeneity of cluster 4 is 0.7424242424242424\n",
            "Homogeneity of cluster 5 is 0.631578947368421\n",
            "Homogeneity of cluster 6 is 1.0\n",
            "Homogeneity of cluster 7 is 0.5686274509803921\n",
            "this is the maximum homogeneity: 1.0\n",
            "Cluster sectioned off: 6\n",
            "percent removed: 0.021462105969148222\n",
            "Good clusters removed. Starting over with smaller dataset.\n",
            "Number of data points to work with:  332\n",
            "Homogeneity of cluster 0 is 0.5333333333333333\n",
            "Homogeneity of cluster 1 is 0.7692307692307693\n",
            "Homogeneity of cluster 2 is 0.7941176470588235\n",
            "Homogeneity of cluster 3 is 0.7321428571428571\n",
            "Homogeneity of cluster 4 is 0.8\n",
            "Homogeneity of cluster 5 is 0.5333333333333333\n",
            "Homogeneity of cluster 6 is 0.7368421052631579\n",
            "Homogeneity of cluster 7 is 0.6333333333333333\n",
            "Homogeneity of cluster 8 is 0.5172413793103449\n",
            "this is the maximum homogeneity: 0.8\n",
            "Cluster sectioned off: 4\n",
            "percent removed: 0.023474178403755867\n",
            "Good clusters removed. Starting over with smaller dataset.\n",
            "Number of data points to work with:  297\n",
            "Homogeneity of cluster 0 is 0.7941176470588235\n",
            "Homogeneity of cluster 1 is 0.6956521739130435\n",
            "Homogeneity of cluster 2 is 0.7692307692307693\n",
            "Homogeneity of cluster 3 is 0.6060606060606061\n",
            "Homogeneity of cluster 4 is 0.5526315789473685\n",
            "Homogeneity of cluster 5 is 0.6333333333333333\n",
            "Homogeneity of cluster 6 is 0.8333333333333334\n",
            "Homogeneity of cluster 7 is 0.5185185185185185\n",
            "Homogeneity of cluster 8 is 0.5348837209302325\n",
            "this is the maximum homogeneity: 0.8333333333333334\n",
            "Cluster sectioned off: 6\n",
            "percent removed: 0.02012072434607646\n",
            "Good clusters removed. Starting over with smaller dataset.\n",
            "Number of data points to work with:  267\n",
            "Homogeneity of cluster 0 is 0.8\n",
            "Homogeneity of cluster 1 is 0.7941176470588235\n",
            "Homogeneity of cluster 2 is 0.7692307692307693\n",
            "Homogeneity of cluster 3 is 0.5714285714285714\n",
            "Homogeneity of cluster 4 is 0.7142857142857143\n",
            "Homogeneity of cluster 5 is 0.6470588235294118\n",
            "Homogeneity of cluster 6 is 0.5882352941176471\n",
            "Homogeneity of cluster 7 is 0.5925925925925926\n",
            "Homogeneity of cluster 8 is 0.5909090909090909\n",
            "Homogeneity of cluster 9 is 0.5263157894736842\n",
            "Homogeneity of cluster 10 is 0.5428571428571428\n",
            "this is the maximum homogeneity: 0.8\n",
            "Cluster sectioned off: 0\n",
            "percent removed: 0.01006036217303823\n",
            "Two few points in a cluster.\n",
            "DONE - we have all clusters\n"
          ]
        }
      ]
    },
    {
      "cell_type": "code",
      "source": [
        "# checking the amount of subtypes and the amount of unclustered points\n",
        "print(len(separatedClusters))\n",
        "print(len(remainingPoints))"
      ],
      "metadata": {
        "colab": {
          "base_uri": "https://localhost:8080/"
        },
        "id": "u3KMJVEybrK0",
        "outputId": "cea9f0b5-ed26-4592-f434-3d701d3d78fa"
      },
      "execution_count": null,
      "outputs": [
        {
          "output_type": "stream",
          "name": "stdout",
          "text": [
            "6\n",
            "267\n"
          ]
        }
      ]
    },
    {
      "cell_type": "code",
      "source": [
        "# checking number of points in a cluster\n",
        "for i in separatedClusters:\n",
        "  print(len(i))"
      ],
      "metadata": {
        "colab": {
          "base_uri": "https://localhost:8080/"
        },
        "id": "bpmtyM7ebvAI",
        "outputId": "91ff4e32-19f3-4076-9c2e-86934f6f7468"
      },
      "execution_count": null,
      "outputs": [
        {
          "output_type": "stream",
          "name": "stdout",
          "text": [
            "700\n",
            "403\n",
            "24\n",
            "32\n",
            "35\n",
            "30\n"
          ]
        }
      ]
    },
    {
      "cell_type": "code",
      "source": [
        "#finding nodule IDs of the closest points to cluster centers, in case you want to visualize the images of the clusters\n",
        "from sklearn.metrics import pairwise_distances_argmin_min\n",
        "closest, _ = pairwise_distances_argmin_min(centers, X)\n",
        "for i in closest:\n",
        "  print(lidc.iloc[i]['noduleID'])"
      ],
      "metadata": {
        "colab": {
          "base_uri": "https://localhost:8080/"
        },
        "id": "HSsnFDf5njik",
        "outputId": "f3443331-3032-42b8-bee8-5e48dc0065a6"
      },
      "execution_count": null,
      "outputs": [
        {
          "output_type": "stream",
          "name": "stdout",
          "text": [
            "745.0\n",
            "1816.0\n",
            "134.0\n",
            "2651.0\n",
            "1344.0\n",
            "2596.0\n"
          ]
        }
      ]
    },
    {
      "cell_type": "code",
      "source": [
        "#Calculating homogeneity of unclustered points\n",
        "labels = y\n",
        "numLabelsPerClass = {}\n",
        "\n",
        "for i in remainingPoints:\n",
        "  label = labels[i]\n",
        "  if label in numLabelsPerClass:\n",
        "    numLabelsPerClass[label] += 1\n",
        "  else:\n",
        "    numLabelsPerClass[label] = 1\n",
        "\n",
        "hsPClass = [] #HS per class in unclustered\n",
        "for key in numLabelsPerClass:\n",
        "  homogeneity = (numLabelsPerClass[key]/len(remainingPoints))\n",
        "  hsPClass.append(homogeneity)\n",
        "\n",
        "hsWoUnclustered = scores\n",
        "print(scores)\n",
        "print(mean(scores))\n",
        "hsWUnclustered = hsWoUnclustered\n",
        "hsWUnclustered.append(max(hsPClass))\n",
        "print(mean(hsWUnclustered))\n",
        "print(hsWUnclustered)"
      ],
      "metadata": {
        "colab": {
          "base_uri": "https://localhost:8080/"
        },
        "id": "-vU1gt6ITmgU",
        "outputId": "278cd80e-cd74-4b14-84c6-2cdd367326eb"
      },
      "execution_count": null,
      "outputs": [
        {
          "output_type": "stream",
          "name": "stdout",
          "text": [
            "[0.9185714285714286, 0.9081885856079405, 0.9583333333333334, 1.0, 0.8, 0.8333333333333334]\n",
            "0.9030711134743393\n",
            "0.8462920940534465\n",
            "[0.9185714285714286, 0.9081885856079405, 0.9583333333333334, 1.0, 0.8, 0.8333333333333334, 0.5056179775280899]\n"
          ]
        }
      ]
    },
    {
      "cell_type": "code",
      "source": [
        "model = sk.cluster.KMeans(n_clusters = len(separatedClusters))\n",
        "clusterLabels = model.fit_predict(X)\n",
        "centersForTrad = model.cluster_centers_\n",
        "# Homogeneity Scores for Traditional Clustering w/ num subtypes from Iterative\n",
        "lst = calculateHomogeneity(clusterLabels,y)\n",
        "print(lst[0])\n",
        "print(len(lst[0]))\n",
        "print(\"Average homogeneity for TRADITIONAL clustering: \", mean(lst[0]))"
      ],
      "metadata": {
        "colab": {
          "base_uri": "https://localhost:8080/"
        },
        "id": "EddL_F2q4iVZ",
        "outputId": "910e3427-d47c-49e8-b6d8-b5e34f515219"
      },
      "execution_count": null,
      "outputs": [
        {
          "output_type": "stream",
          "name": "stdout",
          "text": [
            "[0.9883720930232558, 0.6084507042253521, 0.7941176470588235, 0.5774647887323944, 0.9103139013452914, 0.9055690072639225]\n",
            "6\n",
            "Average homogeneity for TRADITIONAL clustering:  0.7973813569415066\n"
          ]
        }
      ]
    },
    {
      "cell_type": "code",
      "source": [
        "# Finds labels in the dataframe of separated and remaining points\n",
        "\n",
        "labelsForEverything = np.zeros(len(X))\n",
        "labelForRemaining = len(separatedClusters)\n",
        "\n",
        "for label in range(len(separatedClusters)):\n",
        "  for index in separatedClusters[label]:\n",
        "    labelsForEverything[index] = label\n",
        "\n",
        "\n",
        "for index in remainingPoints: \n",
        "  labelsForEverything[index] = labelForRemaining\n",
        "\n",
        "indices = np.where(labelsForEverything==labelForRemaining)\n",
        "print(indices)\n",
        "\n",
        "copyOfX = X\n",
        "XRemoved = np.delete(copyOfX,indices[0],axis=0)\n",
        "\n",
        "copyOfEverything = labelsForEverything\n",
        "labelsForRemoved = np.delete(copyOfEverything,indices[0])"
      ],
      "metadata": {
        "colab": {
          "base_uri": "https://localhost:8080/"
        },
        "id": "bRcdX4v74tpZ",
        "outputId": "6ab7bcea-859d-4614-db1a-eb69154f2b02"
      },
      "execution_count": null,
      "outputs": [
        {
          "output_type": "stream",
          "name": "stdout",
          "text": [
            "(array([  77,   85,   86,   87,  103,  118,  120,  128,  129,  133,  134,\n",
            "        135,  136,  148,  150,  158,  159,  160,  169,  173,  185,  186,\n",
            "        187,  188,  205,  211,  218,  221,  229,  233,  235,  237,  250,\n",
            "        251,  258,  261,  270,  271,  273,  274,  278,  281,  292,  305,\n",
            "        307,  309,  310,  320,  325,  335,  375,  376,  380,  395,  396,\n",
            "        399,  404,  408,  410,  418,  423,  433,  435,  457,  465,  466,\n",
            "        467,  468,  470,  473,  474,  476,  478,  479,  480,  481,  485,\n",
            "        489,  492,  493,  494,  514,  518,  521,  523,  530,  531,  537,\n",
            "        539,  540,  541,  545,  548,  555,  559,  560,  568,  573,  574,\n",
            "        575,  576,  578,  579,  580,  581,  582,  587,  605,  610,  612,\n",
            "        618,  624,  629,  631,  640,  641,  642,  653,  659,  663,  666,\n",
            "        702,  706,  718,  720,  722,  739,  751,  752,  759,  763,  764,\n",
            "        778,  779,  780,  803,  805,  807,  808,  815,  824,  825,  838,\n",
            "        839,  840,  841,  849,  850,  856,  857,  862,  863,  867,  880,\n",
            "        885,  886,  893,  902,  908,  912,  914,  921,  922,  932,  934,\n",
            "        949,  952,  956,  965,  967,  969,  970,  971,  978,  981,  982,\n",
            "        983,  990, 1017, 1020, 1024, 1027, 1047, 1077, 1079, 1082, 1084,\n",
            "       1085, 1086, 1092, 1101, 1113, 1116, 1119, 1120, 1121, 1122, 1123,\n",
            "       1127, 1133, 1135, 1146, 1151, 1153, 1157, 1158, 1168, 1169, 1174,\n",
            "       1181, 1184, 1185, 1201, 1202, 1204, 1211, 1218, 1245, 1249, 1252,\n",
            "       1254, 1255, 1260, 1283, 1293, 1298, 1299, 1303, 1304, 1305, 1313,\n",
            "       1319, 1325, 1326, 1327, 1332, 1354, 1358, 1362, 1365, 1368, 1371,\n",
            "       1381, 1392, 1399, 1410, 1413, 1415, 1416, 1417, 1424, 1428, 1436,\n",
            "       1437, 1439, 1441, 1442, 1448, 1450, 1458, 1460, 1462, 1469, 1474,\n",
            "       1484, 1486, 1490]),)\n"
          ]
        }
      ]
    },
    {
      "cell_type": "code",
      "source": [
        "def getIds(X_test):\n",
        "  indexLst = []\n",
        "  for lst in X_test:\n",
        "    index = int(lst[-1])\n",
        "    indexLst.append(index)\n",
        "  return indexLst"
      ],
      "metadata": {
        "id": "RCBanBhs49Mh"
      },
      "execution_count": null,
      "outputs": []
    },
    {
      "cell_type": "code",
      "source": [
        "# custom metric to define the number of points misclassified per cluster, using majority class in the cluster as the label\n",
        "from scipy import stats\n",
        "def findMisclassified(X, X_test, y, y_test,listOfIndices): \n",
        "  numMisclassified = []\n",
        "  indicesInX = listOfIndices\n",
        "  groundTruths = [y[i] for i in indicesInX]\n",
        "  for i in np.unique(y_test):\n",
        "    numMisclassifiedPerCluster = 0\n",
        "    indicesOfInterest = np.where(y_test == i)[0]\n",
        "    truthLabels = [groundTruths[i] for i in indicesOfInterest]\n",
        "    majorityClassLabel = int(stats.mode(truthLabels)[0])\n",
        "    for i in truthLabels:\n",
        "      if i!=majorityClassLabel:\n",
        "        numMisclassifiedPerCluster = numMisclassifiedPerCluster + 1\n",
        "    numMisclassified.append(numMisclassifiedPerCluster)\n",
        "  return numMisclassified"
      ],
      "metadata": {
        "id": "xmVrXtMlAYbd"
      },
      "execution_count": null,
      "outputs": []
    },
    {
      "cell_type": "code",
      "source": [
        "from sklearn.metrics import precision_recall_fscore_support, accuracy_score, balanced_accuracy_score, recall_score, precision_score"
      ],
      "metadata": {
        "id": "hsW6LnON-KR4"
      },
      "execution_count": null,
      "outputs": []
    },
    {
      "cell_type": "code",
      "source": [
        "r1, r2 = 0, len(list(y))\n",
        "ids = createList(r1, r2)\n",
        "X1 = pd.DataFrame(X)\n",
        "X1['ID'] = ids\n",
        "X1 = X1.to_numpy()\n",
        "X_train, X_test, y_train, y_test = train_test_split(X1, labelsForEverything, test_size = 0.2, stratify = labelsForEverything)\n",
        "lstOfIndices = getIds(X_test)\n",
        "X_train1 = []\n",
        "for i in range(len(X_train)):\n",
        "  everythingButLast = X_train[i][:-1]\n",
        "  X_train1.append(everythingButLast)\n",
        "X_train1 = np.array(X_train1)\n",
        "X_test1 = []\n",
        "for j in range(len(X_test)):\n",
        "  X_test1.append(X_test[j][:-1])\n",
        "X_test1 = np.array(X_test1)\n",
        "svm = SVC()\n",
        "svm.fit(X_train1, y_train)\n",
        "svmResults = svm.predict(X_test1)\n",
        "matrix = confusion_matrix(y_test, svmResults)\n",
        "accuraciesIterative = matrix.diagonal()/matrix.sum(axis = 1)\n",
        "print(matrix)\n",
        "print(\"Overall accuracy for our ITERATIVE subtypes: \", accuracy_score(y_test, svmResults))\n",
        "print(\"Overall Recall for our ITERATIVE subtypes: \", recall_score(y_test, svmResults, average = 'macro'))\n",
        "print(\"Overall Precision for our ITERATIVE subtypes: \", precision_score(y_test, svmResults, average = 'macro'))\n",
        "print(\"Overall Misclassified for our ITERATIVE subtypes: \", mean(findMisclassified(X, X_test1, y, y_test,lstOfIndices)))\n",
        "misclassIterative = findMisclassified(X, X_test1, y, y_test,lstOfIndices)\n"
      ],
      "metadata": {
        "colab": {
          "base_uri": "https://localhost:8080/"
        },
        "id": "sSWBNR5b5KYh",
        "outputId": "fd21dc1b-859f-4719-deba-d9e9bc476772"
      },
      "execution_count": null,
      "outputs": [
        {
          "output_type": "stream",
          "name": "stdout",
          "text": [
            "[[140   0   0   0   0   0   0]\n",
            " [  0  80   0   0   0   0   1]\n",
            " [  0   0   4   0   0   1   0]\n",
            " [  0   0   0   6   0   0   0]\n",
            " [  0   1   0   0   0   0   6]\n",
            " [  4   0   0   0   0   0   2]\n",
            " [  1   1   0   0   0   0  52]]\n",
            "Overall accuracy for our ITERATIVE subtypes:  0.9431438127090301\n",
            "Overall Recall for our ITERATIVE subtypes:  0.6786596119929452\n",
            "Overall Precision for our ITERATIVE subtypes:  0.6847980019814734\n",
            "Overall Misclassified for our ITERATIVE subtypes:  7.714285714285714\n"
          ]
        },
        {
          "output_type": "stream",
          "name": "stderr",
          "text": [
            "/usr/local/lib/python3.7/dist-packages/sklearn/metrics/_classification.py:1318: UndefinedMetricWarning: Precision is ill-defined and being set to 0.0 in labels with no predicted samples. Use `zero_division` parameter to control this behavior.\n",
            "  _warn_prf(average, modifier, msg_start, len(result))\n"
          ]
        }
      ]
    },
    {
      "cell_type": "code",
      "source": [
        "precisionIterative = precision_score(y_test, svmResults, average = None)\n",
        "recallIterative = recall_score(y_test, svmResults, average = None)\n",
        "print(\"Accuracies per class for our ITERATIVE subtypes: \", accuraciesIterative)\n",
        "print(\"Precision per class for our ITERATIVE subtypes: \", precisionIterative)\n",
        "print(\"Recall per class for our ITERATIVE subtypes: \", recallIterative)\n",
        "print(\"Number of points Misclassified per cluster: \", findMisclassified(X, X_test1, y, y_test,lstOfIndices))"
      ],
      "metadata": {
        "colab": {
          "base_uri": "https://localhost:8080/"
        },
        "id": "Curk5aYJZa9u",
        "outputId": "fd78e3c9-c26a-4ea8-97bc-8baa97e59371"
      },
      "execution_count": null,
      "outputs": [
        {
          "output_type": "stream",
          "name": "stdout",
          "text": [
            "Accuracies per class for our ITERATIVE subtypes:  [1.         0.98765432 0.8        1.         0.         0.\n",
            " 0.96296296]\n",
            "Precision per class for our ITERATIVE subtypes:  [0.96551724 0.97560976 1.         1.         0.         0.\n",
            " 0.85245902]\n",
            "Recall per class for our ITERATIVE subtypes:  [1.         0.98765432 0.8        1.         0.         0.\n",
            " 0.96296296]\n",
            "Number of points Misclassified per cluster:  [14, 9, 0, 0, 3, 1, 27]\n"
          ]
        },
        {
          "output_type": "stream",
          "name": "stderr",
          "text": [
            "/usr/local/lib/python3.7/dist-packages/sklearn/metrics/_classification.py:1318: UndefinedMetricWarning: Precision is ill-defined and being set to 0.0 in labels with no predicted samples. Use `zero_division` parameter to control this behavior.\n",
            "  _warn_prf(average, modifier, msg_start, len(result))\n"
          ]
        }
      ]
    },
    {
      "cell_type": "code",
      "source": [
        "# Classify MNIST into ground truth classes (no clustering)\n",
        "X_train, X_test, y_train, y_test = train_test_split(X, y, test_size=0.2, stratify=y)\n",
        "svm = SVC()\n",
        "svm.fit(X_train, y_train)\n",
        "svmResults = svm.predict(X_test)\n",
        "matrix = confusion_matrix(y_test, svmResults)\n",
        "accuracies = matrix.diagonal()/matrix.sum(axis=1)\n",
        "print(\"Accuracies per class for a simple SVM classifer: \", accuracies)\n",
        "print(\"Overall accuracy for a simple SVM classifier: \", accuracy_score(y_test, svmResults))\n",
        "print(\"Recall for a simple SVM classifier: \", recall_score(y_test, svmResults, average = 'macro'))\n",
        "print(\"Precision for a simple SVM classifier: \", precision_score(y_test, svmResults, average = 'macro'))"
      ],
      "metadata": {
        "colab": {
          "base_uri": "https://localhost:8080/"
        },
        "id": "hxfNs6H349wR",
        "outputId": "d20ce48d-4fc9-4af8-acc1-aae912a90bc2"
      },
      "execution_count": null,
      "outputs": [
        {
          "output_type": "stream",
          "name": "stdout",
          "text": [
            "Accuracies per class for a simple SVM classifer:  [0.87222222 0.75630252]\n",
            "Overall accuracy for a simple SVM classifier:  0.8260869565217391\n",
            "Recall for a simple SVM classifier:  0.8142623716153128\n",
            "Precision for a simple SVM classifier:  0.8202730992482634\n"
          ]
        }
      ]
    },
    {
      "cell_type": "code",
      "source": [
        "numberOfTradClusters = len(separatedClusters)\n",
        "#classifying MNIST into n classes using traditional k-means clusters\n",
        "model = sk.cluster.KMeans(n_clusters = numberOfTradClusters)\n",
        "clusterLabels = model.fit_predict(X)\n",
        "centersForTrad = model.cluster_centers_\n",
        "r1, r2 = 0, len(list(y))\n",
        "ids = createList(r1, r2)\n",
        "X1 = pd.DataFrame(X)\n",
        "X1['ID'] = ids\n",
        "X1 = X1.to_numpy()\n",
        "X_train, X_test, y_train, y_test = train_test_split(X1, clusterLabels, test_size = 0.2, stratify = clusterLabels)\n",
        "lstOfIndices = getIds(X_test)\n",
        "X_train1 = []\n",
        "for i in range(len(X_train)):\n",
        "  everythingButLast = X_train[i][:-1]\n",
        "  X_train1.append(everythingButLast)\n",
        "X_train1 = np.array(X_train1)\n",
        "X_test1 = []\n",
        "for j in range(len(X_test)):\n",
        "  X_test1.append(X_test[j][:-1])\n",
        "X_test1 = np.array(X_test1)\n",
        "svm = SVC()\n",
        "svm.fit(X_train1, y_train)\n",
        "svmResults = svm.predict(X_test1)\n",
        "matrix = confusion_matrix(y_test, svmResults)\n",
        "accuracies = matrix.diagonal()/matrix.sum(axis = 1)\n",
        "print(\"Accuracies per class for our TRADITIONAL subtypes: \", accuracies)\n",
        "print(\"Overall accuracy for our TRADITIONAL subtypes: \", accuracy_score(y_test, svmResults))\n",
        "print(\"Recall for our TRADITIONAL: \", recall_score(y_test, svmResults, average = 'macro'))\n",
        "print(\"Precision for our TRADITIONAL subtypes: \", precision_score(y_test, svmResults, average = 'macro'))\n",
        "print(\"Number of points Misclassified per cluster ON AVERAGE: \", mean(findMisclassified(X, X_test1, y, y_test,lstOfIndices)))"
      ],
      "metadata": {
        "colab": {
          "base_uri": "https://localhost:8080/"
        },
        "id": "7kc9m7ez527G",
        "outputId": "82650a11-126b-4c67-df97-9f1f1f1f75a8"
      },
      "execution_count": null,
      "outputs": [
        {
          "output_type": "stream",
          "name": "stdout",
          "text": [
            "Accuracies per class for our TRADITIONAL subtypes:  [0.91428571 1.         0.98795181 1.         0.97752809 0.97183099]\n",
            "Overall accuracy for our TRADITIONAL subtypes:  0.9732441471571907\n",
            "Recall for our TRADITIONAL:  0.9752660995529605\n",
            "Precision for our TRADITIONAL subtypes:  0.9839975845410627\n",
            "Number of points Misclassified per cluster ON AVERAGE:  9\n"
          ]
        }
      ]
    },
    {
      "cell_type": "code",
      "source": [
        "# Histogram for class distribution of separated clusters\n",
        "clusterIter = 0\n",
        "labelDictionary = {0:\"0\",1:\"1\",2:\"2\",3: \"3\",4 : \"4\",5 : \"5\",6 : \"Shirt\",7 : \"Sneaker\",8 : \"Bag\",9 : \"Ankle Boot\"}\n",
        "legend = {0: 'rosybrown', 1:'silver', 2: 'darkred', 3:'coral', 4:'sienna', 5:'peachpuff', 6: 'darkorange', 7:'goldenrod', 8:'darkkhaki', 9:'olive', 10:'darkolivegreen', 11:'lawngreen', 12:'darkseagreen', 13:'aquamarine', 14:'darkslategray', 15:'cyan', 16:'dodgerblue', 17:'cornflowerblue', 18:'indigo', 19:'fuchsia', 20:'palevioletred'}\n",
        "\n",
        "\n",
        "plt.figure(1)\n",
        "for cluster in separatedClusters:\n",
        "  print(\"this is the class distribution for cluster: {}\\n\".format(clusterIter))\n",
        "  print(\"this is the homogeneity Score for this cluster: {}\\n\".format(scores[clusterIter]))\n",
        "  numLabelPerCluster = {}\n",
        "  for i in cluster: #counting number of points per class in cluster\n",
        "    label = y[i]\n",
        "    if label in numLabelPerCluster:\n",
        "      numLabelPerCluster[label] += 1\n",
        "    else:\n",
        "      numLabelPerCluster[label] = 1\n",
        "  \n",
        "  classesPerCluster = []\n",
        "  percentageOfClasses = []\n",
        "  for key in numLabelPerCluster:\n",
        "    percentage = (numLabelPerCluster[key]/len(cluster))*100\n",
        "    print(\"Number of points of class {} in cluster {}: {} ({})\".format(labelDictionary[key],clusterIter,numLabelPerCluster[key],percentage))\n",
        "    classesPerCluster.append(labelDictionary[key])\n",
        "    percentageOfClasses.append(percentage)\n",
        "  plt.subplot()\n",
        "  plt.xticks()\n",
        "  plt.bar(classesPerCluster, percentageOfClasses,width=.7, align='center',color = legend[clusterIter])\n",
        "  plt.title(\"Cluster {} (Iterative Clustering)\".format(clusterIter))\n",
        "  plt.xlabel(\"Classes in Cluster {}\".format(clusterIter))\n",
        "  plt.ylabel(\"Percent of Cluster {}\".format(clusterIter)) \n",
        "\n",
        "  plt.show()\n",
        "\n",
        "  clusterIter += 1\n"
      ],
      "metadata": {
        "colab": {
          "base_uri": "https://localhost:8080/",
          "height": 1000
        },
        "id": "7MISQlvJnqjE",
        "outputId": "78a90105-2cb2-4d7f-9904-c2a8c0ec426c"
      },
      "execution_count": null,
      "outputs": [
        {
          "output_type": "stream",
          "name": "stdout",
          "text": [
            "this is the class distribution for cluster: 0\n",
            "\n",
            "this is the homogeneity Score for this cluster: 0.9185714285714286\n",
            "\n",
            "Number of points of class 0 in cluster 0: 643 (91.85714285714286)\n",
            "Number of points of class 1 in cluster 0: 57 (8.142857142857144)\n"
          ]
        },
        {
          "output_type": "display_data",
          "data": {
            "text/plain": [
              "<Figure size 432x288 with 1 Axes>"
            ],
            "image/png": "[encoded data removed]"
          },
          "metadata": {
            "needs_background": "light"
          }
        },
        {
          "output_type": "stream",
          "name": "stdout",
          "text": [
            "this is the class distribution for cluster: 1\n",
            "\n",
            "this is the homogeneity Score for this cluster: 0.9081885856079405\n",
            "\n",
            "Number of points of class 1 in cluster 1: 366 (90.81885856079404)\n",
            "Number of points of class 0 in cluster 1: 37 (9.181141439205955)\n"
          ]
        },
        {
          "output_type": "display_data",
          "data": {
            "text/plain": [
              "<Figure size 432x288 with 1 Axes>"
            ],
            "image/png": "[encoded data removed]"
          },
          "metadata": {
            "needs_background": "light"
          }
        },
        {
          "output_type": "stream",
          "name": "stdout",
          "text": [
            "this is the class distribution for cluster: 2\n",
            "\n",
            "this is the homogeneity Score for this cluster: 0.9583333333333334\n",
            "\n",
            "Number of points of class 0 in cluster 2: 23 (95.83333333333334)\n",
            "Number of points of class 1 in cluster 2: 1 (4.166666666666666)\n"
          ]
        },
        {
          "output_type": "display_data",
          "data": {
            "text/plain": [
              "<Figure size 432x288 with 1 Axes>"
            ],
            "image/png": "[encoded data removed]"
          },
          "metadata": {
            "needs_background": "light"
          }
        },
        {
          "output_type": "stream",
          "name": "stdout",
          "text": [
            "this is the class distribution for cluster: 3\n",
            "\n",
            "this is the homogeneity Score for this cluster: 1.0\n",
            "\n",
            "Number of points of class 0 in cluster 3: 32 (100.0)\n"
          ]
        },
        {
          "output_type": "display_data",
          "data": {
            "text/plain": [
              "<Figure size 432x288 with 1 Axes>"
            ],
            "image/png": "[encoded data removed]"
          },
          "metadata": {
            "needs_background": "light"
          }
        },
        {
          "output_type": "stream",
          "name": "stdout",
          "text": [
            "this is the class distribution for cluster: 4\n",
            "\n",
            "this is the homogeneity Score for this cluster: 0.8\n",
            "\n",
            "Number of points of class 1 in cluster 4: 28 (80.0)\n",
            "Number of points of class 0 in cluster 4: 7 (20.0)\n"
          ]
        },
        {
          "output_type": "display_data",
          "data": {
            "text/plain": [
              "<Figure size 432x288 with 1 Axes>"
            ],
            "image/png": "[encoded data removed]"
          },
          "metadata": {
            "needs_background": "light"
          }
        },
        {
          "output_type": "stream",
          "name": "stdout",
          "text": [
            "this is the class distribution for cluster: 5\n",
            "\n",
            "this is the homogeneity Score for this cluster: 0.8333333333333334\n",
            "\n",
            "Number of points of class 0 in cluster 5: 25 (83.33333333333334)\n",
            "Number of points of class 1 in cluster 5: 5 (16.666666666666664)\n"
          ]
        },
        {
          "output_type": "display_data",
          "data": {
            "text/plain": [
              "<Figure size 432x288 with 1 Axes>"
            ],
            "image/png": "[encoded data removed]"
          },
          "metadata": {
            "needs_background": "light"
          }
        }
      ]
    },
    {
      "cell_type": "code",
      "source": [
        "#Class Distribution for unclustered data from iterative clustering\n",
        "numLabelsPerClass = {}\n",
        "for i in remainingPoints:\n",
        "  label = y[i]\n",
        "  if label in numLabelsPerClass:\n",
        "    numLabelsPerClass[label] += 1\n",
        "  else:\n",
        "    numLabelsPerClass[label] = 1\n",
        "\n",
        "classesInRemaining = []\n",
        "percentagesPerClassForRemaining = []\n",
        "for key in numLabelsPerClass:\n",
        "  percentage = (numLabelsPerClass[key]/len(remainingPoints))*100\n",
        "  print(\"Number of points of class {} in remaining: {} ({})\".format(labelDictionary[key],numLabelsPerClass[key],percentage))\n",
        "  classesInRemaining.append(labelDictionary[key])\n",
        "  percentagesPerClassForRemaining.append(percentage)\n",
        "\n",
        "\n",
        "plt.bar(classesInRemaining, percentagesPerClassForRemaining,align='center')\n",
        "plt.title(\"Unclustered Data Remaining from Iterative Clustering\")\n",
        "plt.xlabel(\"Classes in Unclustered Data\")\n",
        "plt.ylabel(\"Percent of Unclustered Data\")\n",
        "plt.xticks(rotation=45, rotation_mode='anchor')"
      ],
      "metadata": {
        "colab": {
          "base_uri": "https://localhost:8080/",
          "height": 349
        },
        "id": "0wpafrJkt7Hn",
        "outputId": "775e6d08-c4dc-46eb-d880-37d506d36c14"
      },
      "execution_count": null,
      "outputs": [
        {
          "output_type": "stream",
          "name": "stdout",
          "text": [
            "Number of points of class 0 in remaining: 132 (49.43820224719101)\n",
            "Number of points of class 1 in remaining: 135 (50.56179775280899)\n"
          ]
        },
        {
          "output_type": "execute_result",
          "data": {
            "text/plain": [
              "([0, 1], <a list of 2 Text major ticklabel objects>)"
            ]
          },
          "metadata": {},
          "execution_count": 105
        },
        {
          "output_type": "display_data",
          "data": {
            "text/plain": [
              "<Figure size 432x288 with 1 Axes>"
            ],
            "image/png": "[encoded data removed]"
          },
          "metadata": {
            "needs_background": "light"
          }
        }
      ]
    }
  ]
}